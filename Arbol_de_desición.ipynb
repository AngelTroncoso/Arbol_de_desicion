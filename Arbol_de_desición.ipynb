{
  "nbformat": 4,
  "nbformat_minor": 0,
  "metadata": {
    "colab": {
      "provenance": [],
      "authorship_tag": "ABX9TyNW4m45pTsV5gBFT7c6RfAy",
      "include_colab_link": true
    },
    "kernelspec": {
      "name": "python3",
      "display_name": "Python 3"
    },
    "language_info": {
      "name": "python"
    }
  },
  "cells": [
    {
      "cell_type": "markdown",
      "metadata": {
        "id": "view-in-github",
        "colab_type": "text"
      },
      "source": [
        "<a href=\"https://colab.research.google.com/github/AngelTroncoso/Arbol_de_desicion/blob/main/Arbol_de_desici%C3%B3n.ipynb\" target=\"_parent\"><img src=\"https://colab.research.google.com/assets/colab-badge.svg\" alt=\"Open In Colab\"/></a>"
      ]
    },
    {
      "cell_type": "markdown",
      "source": [
        " #**Árboles de Decisión para Regresión (Decision Trees for Regression) 🌳**"
      ],
      "metadata": {
        "id": "mNeRfGCKOu0V"
      }
    },
    {
      "cell_type": "markdown",
      "source": [
        "##1: Cargar los Datos:"
      ],
      "metadata": {
        "id": "Id65AFL4O2b2"
      }
    },
    {
      "cell_type": "code",
      "execution_count": 1,
      "metadata": {
        "colab": {
          "base_uri": "https://localhost:8080/"
        },
        "id": "-8zBKUlDOpOS",
        "outputId": "a90586ea-fb14-4840-a884-78c56b71cc50"
      },
      "outputs": [
        {
          "output_type": "stream",
          "name": "stdout",
          "text": [
            "   ID_Casa  Habitaciones  Banios  Area_m2 Jardin  Precio_USD\n",
            "0        1             3       2      150     Si      250000\n",
            "1        2             2       1      100     No      180000\n",
            "2        3             4       3      200     Si      350000\n",
            "3        4             3       2      160     No      270000\n",
            "4        5             5       4      250     Si      450000\n"
          ]
        }
      ],
      "source": [
        "import pandas as pd\n",
        "import io\n",
        "\n",
        "csv_data = \"\"\"ID_Casa,Habitaciones,Banios,Area_m2,Jardin,Precio_USD\n",
        "1,3,2,150,Si,250000\n",
        "2,2,1,100,No,180000\n",
        "3,4,3,200,Si,350000\n",
        "4,3,2,160,No,270000\n",
        "5,5,4,250,Si,450000\n",
        "6,2,2,120,Si,220000\n",
        "7,1,1,70,No,120000\n",
        "8,4,2,180,Si,300000\n",
        "9,3,1,130,No,200000\n",
        "10,5,3,220,Si,400000\n",
        "11,2,1,90,No,160000\n",
        "12,4,3,210,Si,380000\n",
        "\"\"\"\n",
        "df = pd.read_csv(io.StringIO(csv_data))\n",
        "print(df.head())"
      ]
    },
    {
      "cell_type": "markdown",
      "source": [
        "##2: Preprocesamiento (One-Hot Encoding):"
      ],
      "metadata": {
        "id": "mzCmE-xTPETo"
      }
    },
    {
      "cell_type": "code",
      "source": [
        "df['Jardin'] = df['Jardin'].apply(lambda x: 1 if x == 'Si' else 0)\n",
        "print(\"\\nDataFrame después de One-Hot Encoding:\")\n",
        "print(df.head())"
      ],
      "metadata": {
        "colab": {
          "base_uri": "https://localhost:8080/"
        },
        "id": "7cywFLrhPJUz",
        "outputId": "3f0319ab-022c-40a4-b3a0-02e3d256fc15"
      },
      "execution_count": 2,
      "outputs": [
        {
          "output_type": "stream",
          "name": "stdout",
          "text": [
            "\n",
            "DataFrame después de One-Hot Encoding:\n",
            "   ID_Casa  Habitaciones  Banios  Area_m2  Jardin  Precio_USD\n",
            "0        1             3       2      150       1      250000\n",
            "1        2             2       1      100       0      180000\n",
            "2        3             4       3      200       1      350000\n",
            "3        4             3       2      160       0      270000\n",
            "4        5             5       4      250       1      450000\n"
          ]
        }
      ]
    },
    {
      "cell_type": "markdown",
      "source": [
        "##3: Definir Características (X) y Variable Objetivo (y):"
      ],
      "metadata": {
        "id": "cTu2WSxZPLak"
      }
    },
    {
      "cell_type": "code",
      "source": [
        "X = df.drop(['ID_Casa', 'Precio_USD'], axis=1)\n",
        "y = df['Precio_USD']"
      ],
      "metadata": {
        "id": "3c28juS-PPB6"
      },
      "execution_count": 3,
      "outputs": []
    },
    {
      "cell_type": "markdown",
      "source": [
        "##4: Dividir Datos (Entrenamiento y Prueba):"
      ],
      "metadata": {
        "id": "um9UySCPPSk8"
      }
    },
    {
      "cell_type": "code",
      "source": [
        "from sklearn.model_selection import train_test_split\n",
        "X_train, X_test, y_train, y_test = train_test_split(X, y, test_size=0.2, random_state=42)"
      ],
      "metadata": {
        "id": "-MUdHnBWPU6E"
      },
      "execution_count": 4,
      "outputs": []
    },
    {
      "cell_type": "markdown",
      "source": [
        "##5: Entrenar Modelo de Árbol de Decisión:"
      ],
      "metadata": {
        "id": "OD28R5dIPXzp"
      }
    },
    {
      "cell_type": "code",
      "source": [
        "from sklearn.tree import DecisionTreeRegressor\n",
        "from sklearn.metrics import mean_squared_error, r2_score\n",
        "import numpy as np\n",
        "\n",
        "# max_depth puede ayudar a controlar el overfitting\n",
        "dt_model = DecisionTreeRegressor(random_state=42, max_depth=5)\n",
        "dt_model.fit(X_train, y_train)\n",
        "y_pred_dt = dt_model.predict(X_test)\n",
        "\n",
        "print(\"\\n--- Resultados Árbol de Decisión ---\")\n",
        "print(f\"MSE: {mean_squared_error(y_test, y_pred_dt):.2f}\")\n",
        "print(f\"R^2: {r2_score(y_test, y_pred_dt):.2f}\")"
      ],
      "metadata": {
        "colab": {
          "base_uri": "https://localhost:8080/"
        },
        "id": "pE20RKRePcgl",
        "outputId": "84669ebe-312e-4e2c-f038-c5e62df119c4"
      },
      "execution_count": 5,
      "outputs": [
        {
          "output_type": "stream",
          "name": "stdout",
          "text": [
            "\n",
            "--- Resultados Árbol de Decisión ---\n",
            "MSE: 400000000.00\n",
            "R^2: 0.96\n"
          ]
        }
      ]
    },
    {
      "cell_type": "markdown",
      "source": [
        "##6: Visualizar el Árbol (Opcional):"
      ],
      "metadata": {
        "id": "UQVE2w0APgcA"
      }
    },
    {
      "cell_type": "code",
      "source": [
        "!pip install graphviz"
      ],
      "metadata": {
        "colab": {
          "base_uri": "https://localhost:8080/"
        },
        "id": "ZNZOPIGFPpeF",
        "outputId": "a1f1242d-aa5e-4086-cf19-ffed0caaca6f"
      },
      "execution_count": 7,
      "outputs": [
        {
          "output_type": "stream",
          "name": "stdout",
          "text": [
            "Requirement already satisfied: graphviz in /usr/local/lib/python3.11/dist-packages (0.21)\n"
          ]
        }
      ]
    },
    {
      "cell_type": "code",
      "source": [
        "from sklearn.tree import export_graphviz\n",
        "import graphviz\n",
        "dot_data = export_graphviz(dt_model, out_file=None,\n",
        "                           feature_names=X.columns,\n",
        "                           filled=True, rounded=True,\n",
        "                           special_characters=True)\n",
        "graph = graphviz.Source(dot_data)\n",
        "graph"
      ],
      "metadata": {
        "colab": {
          "base_uri": "https://localhost:8080/",
          "height": 657
        },
        "id": "wAMBSayePe6S",
        "outputId": "eb22041e-7a4b-4b5c-f01b-e1a392e8dd6f"
      },
      "execution_count": 8,
      "outputs": [
        {
          "output_type": "execute_result",
          "data": {
            "image/svg+xml": "<?xml version=\"1.0\" encoding=\"UTF-8\" standalone=\"no\"?>\n<!DOCTYPE svg PUBLIC \"-//W3C//DTD SVG 1.1//EN\"\n \"http://www.w3.org/Graphics/SVG/1.1/DTD/svg11.dtd\">\n<!-- Generated by graphviz version 2.43.0 (0)\n -->\n<!-- Title: Tree Pages: 1 -->\n<svg width=\"1081pt\" height=\"477pt\"\n viewBox=\"0.00 0.00 1081.00 477.00\" xmlns=\"http://www.w3.org/2000/svg\" xmlns:xlink=\"http://www.w3.org/1999/xlink\">\n<g id=\"graph0\" class=\"graph\" transform=\"scale(1 1) rotate(0) translate(4 473)\">\n<title>Tree</title>\n<polygon fill=\"white\" stroke=\"transparent\" points=\"-4,4 -4,-473 1077,-473 1077,4 -4,4\"/>\n<!-- 0 -->\n<g id=\"node1\" class=\"node\">\n<title>0</title>\n<path fill=\"#f3c4a2\" stroke=\"black\" d=\"M691,-469C691,-469 497,-469 497,-469 491,-469 485,-463 485,-457 485,-457 485,-413 485,-413 485,-407 491,-401 497,-401 497,-401 691,-401 691,-401 697,-401 703,-407 703,-413 703,-413 703,-457 703,-457 703,-463 697,-469 691,-469\"/>\n<text text-anchor=\"start\" x=\"538\" y=\"-453.8\" font-family=\"Helvetica,sans-Serif\" font-size=\"14.00\">Habitaciones ≤ 3.5</text>\n<text text-anchor=\"start\" x=\"493\" y=\"-438.8\" font-family=\"Helvetica,sans-Serif\" font-size=\"14.00\">squared_error = 9958024691.358</text>\n<text text-anchor=\"start\" x=\"556.5\" y=\"-423.8\" font-family=\"Helvetica,sans-Serif\" font-size=\"14.00\">samples = 9</text>\n<text text-anchor=\"start\" x=\"534\" y=\"-408.8\" font-family=\"Helvetica,sans-Serif\" font-size=\"14.00\">value = 274444.444</text>\n</g>\n<!-- 1 -->\n<g id=\"node2\" class=\"node\">\n<title>1</title>\n<path fill=\"#f9e1d0\" stroke=\"black\" d=\"M567.5,-365C567.5,-365 388.5,-365 388.5,-365 382.5,-365 376.5,-359 376.5,-353 376.5,-353 376.5,-309 376.5,-309 376.5,-303 382.5,-297 388.5,-297 388.5,-297 567.5,-297 567.5,-297 573.5,-297 579.5,-303 579.5,-309 579.5,-309 579.5,-353 579.5,-353 579.5,-359 573.5,-365 567.5,-365\"/>\n<text text-anchor=\"start\" x=\"425.5\" y=\"-349.8\" font-family=\"Helvetica,sans-Serif\" font-size=\"14.00\">Area_m2 ≤ 110.0</text>\n<text text-anchor=\"start\" x=\"384.5\" y=\"-334.8\" font-family=\"Helvetica,sans-Serif\" font-size=\"14.00\">squared_error = 2416000000.0</text>\n<text text-anchor=\"start\" x=\"440.5\" y=\"-319.8\" font-family=\"Helvetica,sans-Serif\" font-size=\"14.00\">samples = 5</text>\n<text text-anchor=\"start\" x=\"425.5\" y=\"-304.8\" font-family=\"Helvetica,sans-Serif\" font-size=\"14.00\">value = 198000.0</text>\n</g>\n<!-- 0&#45;&gt;1 -->\n<g id=\"edge1\" class=\"edge\">\n<title>0&#45;&gt;1</title>\n<path fill=\"none\" stroke=\"black\" d=\"M556.34,-400.88C545.9,-391.71 534.46,-381.65 523.63,-372.12\"/>\n<polygon fill=\"black\" stroke=\"black\" points=\"525.69,-369.27 515.87,-365.3 521.07,-374.53 525.69,-369.27\"/>\n<text text-anchor=\"middle\" x=\"517.47\" y=\"-386.55\" font-family=\"Helvetica,sans-Serif\" font-size=\"14.00\">True</text>\n</g>\n<!-- 10 -->\n<g id=\"node11\" class=\"node\">\n<title>10</title>\n<path fill=\"#eba069\" stroke=\"black\" d=\"M833.5,-365C833.5,-365 654.5,-365 654.5,-365 648.5,-365 642.5,-359 642.5,-353 642.5,-353 642.5,-309 642.5,-309 642.5,-303 648.5,-297 654.5,-297 654.5,-297 833.5,-297 833.5,-297 839.5,-297 845.5,-303 845.5,-309 845.5,-309 845.5,-353 845.5,-353 845.5,-359 839.5,-365 833.5,-365\"/>\n<text text-anchor=\"start\" x=\"691.5\" y=\"-349.8\" font-family=\"Helvetica,sans-Serif\" font-size=\"14.00\">Area_m2 ≤ 230.0</text>\n<text text-anchor=\"start\" x=\"650.5\" y=\"-334.8\" font-family=\"Helvetica,sans-Serif\" font-size=\"14.00\">squared_error = 2950000000.0</text>\n<text text-anchor=\"start\" x=\"706.5\" y=\"-319.8\" font-family=\"Helvetica,sans-Serif\" font-size=\"14.00\">samples = 4</text>\n<text text-anchor=\"start\" x=\"691.5\" y=\"-304.8\" font-family=\"Helvetica,sans-Serif\" font-size=\"14.00\">value = 370000.0</text>\n</g>\n<!-- 0&#45;&gt;10 -->\n<g id=\"edge10\" class=\"edge\">\n<title>0&#45;&gt;10</title>\n<path fill=\"none\" stroke=\"black\" d=\"M642.7,-400.88C656.79,-391.3 672.29,-380.76 686.85,-370.86\"/>\n<polygon fill=\"black\" stroke=\"black\" points=\"688.99,-373.64 695.29,-365.12 685.05,-367.85 688.99,-373.64\"/>\n<text text-anchor=\"middle\" x=\"690.61\" y=\"-385.98\" font-family=\"Helvetica,sans-Serif\" font-size=\"14.00\">False</text>\n</g>\n<!-- 2 -->\n<g id=\"node3\" class=\"node\">\n<title>2</title>\n<path fill=\"#fdf4ed\" stroke=\"black\" d=\"M308,-261C308,-261 136,-261 136,-261 130,-261 124,-255 124,-249 124,-249 124,-205 124,-205 124,-199 130,-193 136,-193 136,-193 308,-193 308,-193 314,-193 320,-199 320,-205 320,-205 320,-249 320,-249 320,-255 314,-261 308,-261\"/>\n<text text-anchor=\"start\" x=\"173.5\" y=\"-245.8\" font-family=\"Helvetica,sans-Serif\" font-size=\"14.00\">Area_m2 ≤ 85.0</text>\n<text text-anchor=\"start\" x=\"132\" y=\"-230.8\" font-family=\"Helvetica,sans-Serif\" font-size=\"14.00\">squared_error = 900000000.0</text>\n<text text-anchor=\"start\" x=\"184.5\" y=\"-215.8\" font-family=\"Helvetica,sans-Serif\" font-size=\"14.00\">samples = 2</text>\n<text text-anchor=\"start\" x=\"169.5\" y=\"-200.8\" font-family=\"Helvetica,sans-Serif\" font-size=\"14.00\">value = 150000.0</text>\n</g>\n<!-- 1&#45;&gt;2 -->\n<g id=\"edge2\" class=\"edge\">\n<title>1&#45;&gt;2</title>\n<path fill=\"none\" stroke=\"black\" d=\"M394.88,-296.88C369.27,-286.68 340.91,-275.38 314.69,-264.93\"/>\n<polygon fill=\"black\" stroke=\"black\" points=\"315.72,-261.57 305.14,-261.12 313.13,-268.08 315.72,-261.57\"/>\n</g>\n<!-- 5 -->\n<g id=\"node6\" class=\"node\">\n<title>5</title>\n<path fill=\"#f6d5bd\" stroke=\"black\" d=\"M571.5,-261C571.5,-261 384.5,-261 384.5,-261 378.5,-261 372.5,-255 372.5,-249 372.5,-249 372.5,-205 372.5,-205 372.5,-199 378.5,-193 384.5,-193 384.5,-193 571.5,-193 571.5,-193 577.5,-193 583.5,-199 583.5,-205 583.5,-205 583.5,-249 583.5,-249 583.5,-255 577.5,-261 571.5,-261\"/>\n<text text-anchor=\"start\" x=\"425.5\" y=\"-245.8\" font-family=\"Helvetica,sans-Serif\" font-size=\"14.00\">Area_m2 ≤ 145.0</text>\n<text text-anchor=\"start\" x=\"380.5\" y=\"-230.8\" font-family=\"Helvetica,sans-Serif\" font-size=\"14.00\">squared_error = 866666666.667</text>\n<text text-anchor=\"start\" x=\"440.5\" y=\"-215.8\" font-family=\"Helvetica,sans-Serif\" font-size=\"14.00\">samples = 3</text>\n<text text-anchor=\"start\" x=\"425.5\" y=\"-200.8\" font-family=\"Helvetica,sans-Serif\" font-size=\"14.00\">value = 230000.0</text>\n</g>\n<!-- 1&#45;&gt;5 -->\n<g id=\"edge5\" class=\"edge\">\n<title>1&#45;&gt;5</title>\n<path fill=\"none\" stroke=\"black\" d=\"M478,-296.88C478,-288.78 478,-279.98 478,-271.47\"/>\n<polygon fill=\"black\" stroke=\"black\" points=\"481.5,-271.3 478,-261.3 474.5,-271.3 481.5,-271.3\"/>\n</g>\n<!-- 3 -->\n<g id=\"node4\" class=\"node\">\n<title>3</title>\n<path fill=\"#ffffff\" stroke=\"black\" d=\"M124,-149.5C124,-149.5 12,-149.5 12,-149.5 6,-149.5 0,-143.5 0,-137.5 0,-137.5 0,-108.5 0,-108.5 0,-102.5 6,-96.5 12,-96.5 12,-96.5 124,-96.5 124,-96.5 130,-96.5 136,-102.5 136,-108.5 136,-108.5 136,-137.5 136,-137.5 136,-143.5 130,-149.5 124,-149.5\"/>\n<text text-anchor=\"start\" x=\"8\" y=\"-134.3\" font-family=\"Helvetica,sans-Serif\" font-size=\"14.00\">squared_error = 0.0</text>\n<text text-anchor=\"start\" x=\"30.5\" y=\"-119.3\" font-family=\"Helvetica,sans-Serif\" font-size=\"14.00\">samples = 1</text>\n<text text-anchor=\"start\" x=\"15.5\" y=\"-104.3\" font-family=\"Helvetica,sans-Serif\" font-size=\"14.00\">value = 120000.0</text>\n</g>\n<!-- 2&#45;&gt;3 -->\n<g id=\"edge3\" class=\"edge\">\n<title>2&#45;&gt;3</title>\n<path fill=\"none\" stroke=\"black\" d=\"M172,-192.88C153.74,-180.79 133.15,-167.15 115.14,-155.22\"/>\n<polygon fill=\"black\" stroke=\"black\" points=\"116.8,-152.12 106.53,-149.52 112.93,-157.96 116.8,-152.12\"/>\n</g>\n<!-- 4 -->\n<g id=\"node5\" class=\"node\">\n<title>4</title>\n<path fill=\"#fae8db\" stroke=\"black\" d=\"M278,-149.5C278,-149.5 166,-149.5 166,-149.5 160,-149.5 154,-143.5 154,-137.5 154,-137.5 154,-108.5 154,-108.5 154,-102.5 160,-96.5 166,-96.5 166,-96.5 278,-96.5 278,-96.5 284,-96.5 290,-102.5 290,-108.5 290,-108.5 290,-137.5 290,-137.5 290,-143.5 284,-149.5 278,-149.5\"/>\n<text text-anchor=\"start\" x=\"162\" y=\"-134.3\" font-family=\"Helvetica,sans-Serif\" font-size=\"14.00\">squared_error = 0.0</text>\n<text text-anchor=\"start\" x=\"184.5\" y=\"-119.3\" font-family=\"Helvetica,sans-Serif\" font-size=\"14.00\">samples = 1</text>\n<text text-anchor=\"start\" x=\"169.5\" y=\"-104.3\" font-family=\"Helvetica,sans-Serif\" font-size=\"14.00\">value = 180000.0</text>\n</g>\n<!-- 2&#45;&gt;4 -->\n<g id=\"edge4\" class=\"edge\">\n<title>2&#45;&gt;4</title>\n<path fill=\"none\" stroke=\"black\" d=\"M222,-192.88C222,-182.33 222,-170.6 222,-159.85\"/>\n<polygon fill=\"black\" stroke=\"black\" points=\"225.5,-159.52 222,-149.52 218.5,-159.52 225.5,-159.52\"/>\n</g>\n<!-- 6 -->\n<g id=\"node7\" class=\"node\">\n<title>6</title>\n<path fill=\"#f8ddc9\" stroke=\"black\" d=\"M492,-157C492,-157 320,-157 320,-157 314,-157 308,-151 308,-145 308,-145 308,-101 308,-101 308,-95 314,-89 320,-89 320,-89 492,-89 492,-89 498,-89 504,-95 504,-101 504,-101 504,-145 504,-145 504,-151 498,-157 492,-157\"/>\n<text text-anchor=\"start\" x=\"350\" y=\"-141.8\" font-family=\"Helvetica,sans-Serif\" font-size=\"14.00\">Habitaciones ≤ 2.5</text>\n<text text-anchor=\"start\" x=\"316\" y=\"-126.8\" font-family=\"Helvetica,sans-Serif\" font-size=\"14.00\">squared_error = 100000000.0</text>\n<text text-anchor=\"start\" x=\"368.5\" y=\"-111.8\" font-family=\"Helvetica,sans-Serif\" font-size=\"14.00\">samples = 2</text>\n<text text-anchor=\"start\" x=\"353.5\" y=\"-96.8\" font-family=\"Helvetica,sans-Serif\" font-size=\"14.00\">value = 210000.0</text>\n</g>\n<!-- 5&#45;&gt;6 -->\n<g id=\"edge6\" class=\"edge\">\n<title>5&#45;&gt;6</title>\n<path fill=\"none\" stroke=\"black\" d=\"M454.62,-192.88C448.46,-184.15 441.74,-174.62 435.3,-165.51\"/>\n<polygon fill=\"black\" stroke=\"black\" points=\"438.13,-163.45 429.51,-157.3 432.41,-167.49 438.13,-163.45\"/>\n</g>\n<!-- 9 -->\n<g id=\"node10\" class=\"node\">\n<title>9</title>\n<path fill=\"#f3c6a5\" stroke=\"black\" d=\"M646,-149.5C646,-149.5 534,-149.5 534,-149.5 528,-149.5 522,-143.5 522,-137.5 522,-137.5 522,-108.5 522,-108.5 522,-102.5 528,-96.5 534,-96.5 534,-96.5 646,-96.5 646,-96.5 652,-96.5 658,-102.5 658,-108.5 658,-108.5 658,-137.5 658,-137.5 658,-143.5 652,-149.5 646,-149.5\"/>\n<text text-anchor=\"start\" x=\"530\" y=\"-134.3\" font-family=\"Helvetica,sans-Serif\" font-size=\"14.00\">squared_error = 0.0</text>\n<text text-anchor=\"start\" x=\"552.5\" y=\"-119.3\" font-family=\"Helvetica,sans-Serif\" font-size=\"14.00\">samples = 1</text>\n<text text-anchor=\"start\" x=\"537.5\" y=\"-104.3\" font-family=\"Helvetica,sans-Serif\" font-size=\"14.00\">value = 270000.0</text>\n</g>\n<!-- 5&#45;&gt;9 -->\n<g id=\"edge9\" class=\"edge\">\n<title>5&#45;&gt;9</title>\n<path fill=\"none\" stroke=\"black\" d=\"M514.36,-192.88C527.16,-181.23 541.53,-168.14 554.28,-156.53\"/>\n<polygon fill=\"black\" stroke=\"black\" points=\"556.94,-158.84 561.98,-149.52 552.23,-153.67 556.94,-158.84\"/>\n</g>\n<!-- 7 -->\n<g id=\"node8\" class=\"node\">\n<title>7</title>\n<path fill=\"#f7d9c3\" stroke=\"black\" d=\"M385,-53C385,-53 273,-53 273,-53 267,-53 261,-47 261,-41 261,-41 261,-12 261,-12 261,-6 267,0 273,0 273,0 385,0 385,0 391,0 397,-6 397,-12 397,-12 397,-41 397,-41 397,-47 391,-53 385,-53\"/>\n<text text-anchor=\"start\" x=\"269\" y=\"-37.8\" font-family=\"Helvetica,sans-Serif\" font-size=\"14.00\">squared_error = 0.0</text>\n<text text-anchor=\"start\" x=\"291.5\" y=\"-22.8\" font-family=\"Helvetica,sans-Serif\" font-size=\"14.00\">samples = 1</text>\n<text text-anchor=\"start\" x=\"276.5\" y=\"-7.8\" font-family=\"Helvetica,sans-Serif\" font-size=\"14.00\">value = 220000.0</text>\n</g>\n<!-- 6&#45;&gt;7 -->\n<g id=\"edge7\" class=\"edge\">\n<title>6&#45;&gt;7</title>\n<path fill=\"none\" stroke=\"black\" d=\"M379.07,-88.95C371.76,-79.98 363.85,-70.27 356.51,-61.26\"/>\n<polygon fill=\"black\" stroke=\"black\" points=\"359,-58.78 349.97,-53.24 353.57,-63.2 359,-58.78\"/>\n</g>\n<!-- 8 -->\n<g id=\"node9\" class=\"node\">\n<title>8</title>\n<path fill=\"#f9e0cf\" stroke=\"black\" d=\"M539,-53C539,-53 427,-53 427,-53 421,-53 415,-47 415,-41 415,-41 415,-12 415,-12 415,-6 421,0 427,0 427,0 539,0 539,0 545,0 551,-6 551,-12 551,-12 551,-41 551,-41 551,-47 545,-53 539,-53\"/>\n<text text-anchor=\"start\" x=\"423\" y=\"-37.8\" font-family=\"Helvetica,sans-Serif\" font-size=\"14.00\">squared_error = 0.0</text>\n<text text-anchor=\"start\" x=\"445.5\" y=\"-22.8\" font-family=\"Helvetica,sans-Serif\" font-size=\"14.00\">samples = 1</text>\n<text text-anchor=\"start\" x=\"430.5\" y=\"-7.8\" font-family=\"Helvetica,sans-Serif\" font-size=\"14.00\">value = 200000.0</text>\n</g>\n<!-- 6&#45;&gt;8 -->\n<g id=\"edge8\" class=\"edge\">\n<title>6&#45;&gt;8</title>\n<path fill=\"none\" stroke=\"black\" d=\"M432.93,-88.95C440.24,-79.98 448.15,-70.27 455.49,-61.26\"/>\n<polygon fill=\"black\" stroke=\"black\" points=\"458.43,-63.2 462.03,-53.24 453,-58.78 458.43,-63.2\"/>\n</g>\n<!-- 11 -->\n<g id=\"node12\" class=\"node\">\n<title>11</title>\n<path fill=\"#edaa79\" stroke=\"black\" d=\"M841,-261C841,-261 647,-261 647,-261 641,-261 635,-255 635,-249 635,-249 635,-205 635,-205 635,-199 641,-193 647,-193 647,-193 841,-193 841,-193 847,-193 853,-199 853,-205 853,-205 853,-249 853,-249 853,-255 847,-261 841,-261\"/>\n<text text-anchor=\"start\" x=\"691.5\" y=\"-245.8\" font-family=\"Helvetica,sans-Serif\" font-size=\"14.00\">Area_m2 ≤ 190.0</text>\n<text text-anchor=\"start\" x=\"643\" y=\"-230.8\" font-family=\"Helvetica,sans-Serif\" font-size=\"14.00\">squared_error = 1088888888.889</text>\n<text text-anchor=\"start\" x=\"706.5\" y=\"-215.8\" font-family=\"Helvetica,sans-Serif\" font-size=\"14.00\">samples = 3</text>\n<text text-anchor=\"start\" x=\"684\" y=\"-200.8\" font-family=\"Helvetica,sans-Serif\" font-size=\"14.00\">value = 343333.333</text>\n</g>\n<!-- 10&#45;&gt;11 -->\n<g id=\"edge11\" class=\"edge\">\n<title>10&#45;&gt;11</title>\n<path fill=\"none\" stroke=\"black\" d=\"M744,-296.88C744,-288.78 744,-279.98 744,-271.47\"/>\n<polygon fill=\"black\" stroke=\"black\" points=\"747.5,-271.3 744,-261.3 740.5,-271.3 747.5,-271.3\"/>\n</g>\n<!-- 16 -->\n<g id=\"node17\" class=\"node\">\n<title>16</title>\n<path fill=\"#e58139\" stroke=\"black\" d=\"M995,-253.5C995,-253.5 883,-253.5 883,-253.5 877,-253.5 871,-247.5 871,-241.5 871,-241.5 871,-212.5 871,-212.5 871,-206.5 877,-200.5 883,-200.5 883,-200.5 995,-200.5 995,-200.5 1001,-200.5 1007,-206.5 1007,-212.5 1007,-212.5 1007,-241.5 1007,-241.5 1007,-247.5 1001,-253.5 995,-253.5\"/>\n<text text-anchor=\"start\" x=\"879\" y=\"-238.3\" font-family=\"Helvetica,sans-Serif\" font-size=\"14.00\">squared_error = 0.0</text>\n<text text-anchor=\"start\" x=\"901.5\" y=\"-223.3\" font-family=\"Helvetica,sans-Serif\" font-size=\"14.00\">samples = 1</text>\n<text text-anchor=\"start\" x=\"886.5\" y=\"-208.3\" font-family=\"Helvetica,sans-Serif\" font-size=\"14.00\">value = 450000.0</text>\n</g>\n<!-- 10&#45;&gt;16 -->\n<g id=\"edge16\" class=\"edge\">\n<title>10&#45;&gt;16</title>\n<path fill=\"none\" stroke=\"black\" d=\"M807.31,-296.88C831.07,-284.46 857.93,-270.41 881.17,-258.25\"/>\n<polygon fill=\"black\" stroke=\"black\" points=\"882.97,-261.26 890.21,-253.52 879.73,-255.05 882.97,-261.26\"/>\n</g>\n<!-- 12 -->\n<g id=\"node13\" class=\"node\">\n<title>12</title>\n<path fill=\"#f1ba93\" stroke=\"black\" d=\"M800,-149.5C800,-149.5 688,-149.5 688,-149.5 682,-149.5 676,-143.5 676,-137.5 676,-137.5 676,-108.5 676,-108.5 676,-102.5 682,-96.5 688,-96.5 688,-96.5 800,-96.5 800,-96.5 806,-96.5 812,-102.5 812,-108.5 812,-108.5 812,-137.5 812,-137.5 812,-143.5 806,-149.5 800,-149.5\"/>\n<text text-anchor=\"start\" x=\"684\" y=\"-134.3\" font-family=\"Helvetica,sans-Serif\" font-size=\"14.00\">squared_error = 0.0</text>\n<text text-anchor=\"start\" x=\"706.5\" y=\"-119.3\" font-family=\"Helvetica,sans-Serif\" font-size=\"14.00\">samples = 1</text>\n<text text-anchor=\"start\" x=\"691.5\" y=\"-104.3\" font-family=\"Helvetica,sans-Serif\" font-size=\"14.00\">value = 300000.0</text>\n</g>\n<!-- 11&#45;&gt;12 -->\n<g id=\"edge12\" class=\"edge\">\n<title>11&#45;&gt;12</title>\n<path fill=\"none\" stroke=\"black\" d=\"M744,-192.88C744,-182.33 744,-170.6 744,-159.85\"/>\n<polygon fill=\"black\" stroke=\"black\" points=\"747.5,-159.52 744,-149.52 740.5,-159.52 747.5,-159.52\"/>\n</g>\n<!-- 13 -->\n<g id=\"node14\" class=\"node\">\n<title>13</title>\n<path fill=\"#eca16c\" stroke=\"black\" d=\"M1014,-157C1014,-157 842,-157 842,-157 836,-157 830,-151 830,-145 830,-145 830,-101 830,-101 830,-95 836,-89 842,-89 842,-89 1014,-89 1014,-89 1020,-89 1026,-95 1026,-101 1026,-101 1026,-145 1026,-145 1026,-151 1020,-157 1014,-157\"/>\n<text text-anchor=\"start\" x=\"875.5\" y=\"-141.8\" font-family=\"Helvetica,sans-Serif\" font-size=\"14.00\">Area_m2 ≤ 205.0</text>\n<text text-anchor=\"start\" x=\"838\" y=\"-126.8\" font-family=\"Helvetica,sans-Serif\" font-size=\"14.00\">squared_error = 225000000.0</text>\n<text text-anchor=\"start\" x=\"890.5\" y=\"-111.8\" font-family=\"Helvetica,sans-Serif\" font-size=\"14.00\">samples = 2</text>\n<text text-anchor=\"start\" x=\"875.5\" y=\"-96.8\" font-family=\"Helvetica,sans-Serif\" font-size=\"14.00\">value = 365000.0</text>\n</g>\n<!-- 11&#45;&gt;13 -->\n<g id=\"edge13\" class=\"edge\">\n<title>11&#45;&gt;13</title>\n<path fill=\"none\" stroke=\"black\" d=\"M803.74,-192.88C821.5,-183.04 841.11,-172.17 859.39,-162.03\"/>\n<polygon fill=\"black\" stroke=\"black\" points=\"861.2,-165.03 868.25,-157.12 857.8,-158.91 861.2,-165.03\"/>\n</g>\n<!-- 14 -->\n<g id=\"node15\" class=\"node\">\n<title>14</title>\n<path fill=\"#eda775\" stroke=\"black\" d=\"M907,-53C907,-53 795,-53 795,-53 789,-53 783,-47 783,-41 783,-41 783,-12 783,-12 783,-6 789,0 795,0 795,0 907,0 907,0 913,0 919,-6 919,-12 919,-12 919,-41 919,-41 919,-47 913,-53 907,-53\"/>\n<text text-anchor=\"start\" x=\"791\" y=\"-37.8\" font-family=\"Helvetica,sans-Serif\" font-size=\"14.00\">squared_error = 0.0</text>\n<text text-anchor=\"start\" x=\"813.5\" y=\"-22.8\" font-family=\"Helvetica,sans-Serif\" font-size=\"14.00\">samples = 1</text>\n<text text-anchor=\"start\" x=\"798.5\" y=\"-7.8\" font-family=\"Helvetica,sans-Serif\" font-size=\"14.00\">value = 350000.0</text>\n</g>\n<!-- 13&#45;&gt;14 -->\n<g id=\"edge14\" class=\"edge\">\n<title>13&#45;&gt;14</title>\n<path fill=\"none\" stroke=\"black\" d=\"M901.07,-88.95C893.76,-79.98 885.85,-70.27 878.51,-61.26\"/>\n<polygon fill=\"black\" stroke=\"black\" points=\"881,-58.78 871.97,-53.24 875.57,-63.2 881,-58.78\"/>\n</g>\n<!-- 15 -->\n<g id=\"node16\" class=\"node\">\n<title>15</title>\n<path fill=\"#eb9c63\" stroke=\"black\" d=\"M1061,-53C1061,-53 949,-53 949,-53 943,-53 937,-47 937,-41 937,-41 937,-12 937,-12 937,-6 943,0 949,0 949,0 1061,0 1061,0 1067,0 1073,-6 1073,-12 1073,-12 1073,-41 1073,-41 1073,-47 1067,-53 1061,-53\"/>\n<text text-anchor=\"start\" x=\"945\" y=\"-37.8\" font-family=\"Helvetica,sans-Serif\" font-size=\"14.00\">squared_error = 0.0</text>\n<text text-anchor=\"start\" x=\"967.5\" y=\"-22.8\" font-family=\"Helvetica,sans-Serif\" font-size=\"14.00\">samples = 1</text>\n<text text-anchor=\"start\" x=\"952.5\" y=\"-7.8\" font-family=\"Helvetica,sans-Serif\" font-size=\"14.00\">value = 380000.0</text>\n</g>\n<!-- 13&#45;&gt;15 -->\n<g id=\"edge15\" class=\"edge\">\n<title>13&#45;&gt;15</title>\n<path fill=\"none\" stroke=\"black\" d=\"M954.93,-88.95C962.24,-79.98 970.15,-70.27 977.49,-61.26\"/>\n<polygon fill=\"black\" stroke=\"black\" points=\"980.43,-63.2 984.03,-53.24 975,-58.78 980.43,-63.2\"/>\n</g>\n</g>\n</svg>\n",
            "text/plain": [
              "<graphviz.sources.Source at 0x7d0fb4493650>"
            ]
          },
          "metadata": {},
          "execution_count": 8
        }
      ]
    }
  ]
}